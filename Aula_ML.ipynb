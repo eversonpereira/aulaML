{
  "nbformat": 4,
  "nbformat_minor": 0,
  "metadata": {
    "colab": {
      "provenance": [],
      "authorship_tag": "ABX9TyPJerwubRAzcmEDURMCQoDp",
      "include_colab_link": true
    },
    "kernelspec": {
      "name": "python3",
      "display_name": "Python 3"
    },
    "language_info": {
      "name": "python"
    }
  },
  "cells": [
    {
      "cell_type": "markdown",
      "metadata": {
        "id": "view-in-github",
        "colab_type": "text"
      },
      "source": [
        "<a href=\"https://colab.research.google.com/github/eversonpereira/aulaML/blob/main/Aula_ML.ipynb\" target=\"_parent\"><img src=\"https://colab.research.google.com/assets/colab-badge.svg\" alt=\"Open In Colab\"/></a>"
      ]
    },
    {
      "cell_type": "markdown",
      "source": [
        "Vamos começar importando as bibliotecas necessárias."
      ],
      "metadata": {
        "id": "FLV74fIYy-GD"
      }
    },
    {
      "cell_type": "code",
      "execution_count": 1,
      "metadata": {
        "id": "n6mQ5hWFxfch"
      },
      "outputs": [],
      "source": [
        "from sklearn.datasets import load_iris\n",
        "from sklearn.model_selection import train_test_split\n",
        "from sklearn.neighbors import KNeighborsClassifier\n",
        "from sklearn.metrics import confusion_matrix, classification_report\n",
        "import joblib"
      ]
    },
    {
      "cell_type": "markdown",
      "source": [
        "Carregaremos o dataset Iris"
      ],
      "metadata": {
        "id": "glRPN6J2zJM1"
      }
    },
    {
      "cell_type": "code",
      "source": [
        "iris = load_iris()\n",
        "X = iris.data\n",
        "y = iris.target"
      ],
      "metadata": {
        "id": "ARK6BZuUzH-Q"
      },
      "execution_count": null,
      "outputs": []
    },
    {
      "cell_type": "markdown",
      "source": [
        "\n",
        "\n",
        "Dividiremos os dados em conjuntos de treinamento e teste\n",
        "\n"
      ],
      "metadata": {
        "id": "uvpOl_WkzXWt"
      }
    },
    {
      "cell_type": "code",
      "source": [
        "X_train, X_test, y_train, y_test = train_test_split(X, y, test_size=0.2, random_state=42)"
      ],
      "metadata": {
        "id": "Xy-qIXpUzWuq"
      },
      "execution_count": null,
      "outputs": []
    },
    {
      "cell_type": "markdown",
      "source": [
        "Instanciaremos o modelo KNN com k=3 (ajuste conforme necessário)"
      ],
      "metadata": {
        "id": "MateqkDszk-O"
      }
    },
    {
      "cell_type": "code",
      "source": [
        "knn = KNeighborsClassifier(n_neighbors=3)"
      ],
      "metadata": {
        "id": "0nWfVrkPzrl1"
      },
      "execution_count": null,
      "outputs": []
    },
    {
      "cell_type": "markdown",
      "source": [
        "Vamos treinar o modelo com os dados de treinamento"
      ],
      "metadata": {
        "id": "sPy98maQzx8g"
      }
    },
    {
      "cell_type": "code",
      "source": [
        "knn.fit(X_train, y_train)"
      ],
      "metadata": {
        "id": "cRwx5uzyz1wu"
      },
      "execution_count": null,
      "outputs": []
    },
    {
      "cell_type": "markdown",
      "source": [
        "Avaliando o modelo com os dados de teste"
      ],
      "metadata": {
        "id": "zoGHTSZPz40w"
      }
    },
    {
      "cell_type": "code",
      "source": [
        "y_pred = knn.predict(X_test)"
      ],
      "metadata": {
        "id": "yhEj3em4z-xx"
      },
      "execution_count": null,
      "outputs": []
    },
    {
      "cell_type": "markdown",
      "source": [
        "Vamos mostrar a matriz de confusão"
      ],
      "metadata": {
        "id": "aROTLIXl0DOg"
      }
    },
    {
      "cell_type": "code",
      "source": [
        "print(\"Matriz de Confusão:\")\n",
        "print(confusion_matrix(y_test, y_pred))"
      ],
      "metadata": {
        "id": "ugAtphSy0GAY"
      },
      "execution_count": null,
      "outputs": []
    },
    {
      "cell_type": "markdown",
      "source": [
        "Vamos mostrar outras estatísticas"
      ],
      "metadata": {
        "id": "LxIy1HrG0I5S"
      }
    },
    {
      "cell_type": "code",
      "source": [
        "print(\"\\nEstatísticas de Desempenho:\")\n",
        "print(classification_report(y_test, y_pred))"
      ],
      "metadata": {
        "id": "9syoavTl0PkW"
      },
      "execution_count": null,
      "outputs": []
    },
    {
      "cell_type": "markdown",
      "source": [
        "Salvando o modelo treinado para uso futuro"
      ],
      "metadata": {
        "id": "Ub6Ul0AI0SxU"
      }
    },
    {
      "cell_type": "code",
      "source": [
        "joblib.dump(knn, 'modelo_knn_iris.pkl')\n",
        "print(\"Modelo salvo como 'modelo_knn_iris.pkl'\")"
      ],
      "metadata": {
        "id": "_wqhzxVq0UHW"
      },
      "execution_count": null,
      "outputs": []
    },
    {
      "cell_type": "markdown",
      "source": [
        "Utilizando o modelo já treinado e realizando a classificação de um novo exemplo"
      ],
      "metadata": {
        "id": "Q9qMYLwg1KsZ"
      }
    },
    {
      "cell_type": "code",
      "source": [
        "import numpy as np\n",
        "import joblib\n",
        "\n",
        "# Carregando o modelo treinado do arquivo\n",
        "modelo_knn = joblib.load('modelo_knn_iris.pkl')\n",
        "\n",
        "# Novo exemplo para classificar\n",
        "novo_exemplo = np.array([[5.9, 3.0, 5.1, 1.8]])\n",
        "\n",
        "# Fazendo a predição\n",
        "predicao = modelo_knn.predict(novo_exemplo)\n",
        "\n",
        "# Mostrando a classe prevista\n",
        "print(f\"Classe prevista: {predicao[0]}\")\n",
        "print(f\"Nome da classe: {iris.target_names[predicao[0]]}\")\n"
      ],
      "metadata": {
        "id": "lCE-kck51P1A"
      },
      "execution_count": null,
      "outputs": []
    },
    {
      "cell_type": "markdown",
      "source": [
        "Criando uma pseudo API onde receberá um post para rota predict e retornará a classificação. No corpo do POST deverá vim os atributos do exemplo a ser calssificado, por exemplo:\n",
        "\n",
        "```\n",
        "{\n",
        "  \"exemplo\": [5.9, 3.0, 5.1, 1.8]\n",
        "}\n",
        "\n",
        "```\n",
        "Esse código não funcionará no Colab pq não é possivel executar o app.run no colab.\n",
        "\n"
      ],
      "metadata": {
        "id": "odQ_WGVP11Fo"
      }
    },
    {
      "cell_type": "code",
      "source": [
        "from flask import Flask, request, jsonify\n",
        "import joblib\n",
        "import numpy as np\n",
        "\n",
        "app = Flask(__name__)\n",
        "\n",
        "# Carrega o modelo treinado\n",
        "modelo_knn = joblib.load('modelo_knn_iris.pkl')\n",
        "\n",
        "@app.route('/predict', methods=['POST'])\n",
        "def predict():\n",
        "    data = request.get_json(force=True)\n",
        "    # Assegura que os dados de entrada são convertidos para o formato correto\n",
        "    medidas = np.array(data['exemplo']).reshape(1, -1)\n",
        "\n",
        "    # Realiza a predição usando o modelo carregado\n",
        "    predicao = modelo_knn.predict(medidas)\n",
        "\n",
        "    # Retorna a classe prevista\n",
        "    return jsonify({'classe': int(predicao[0])})\n",
        "\n",
        "if __name__ == '__main__':\n",
        "    app.run(debug=True)\n"
      ],
      "metadata": {
        "id": "qNEs_3rY2Rau"
      },
      "execution_count": null,
      "outputs": []
    },
    {
      "cell_type": "markdown",
      "source": [
        "Para funcionar no Colab vamos usar o ngrok para expor o servidor Flask, primeiro instalaremos as dependencias e depois utilizaremos o código abaixo:"
      ],
      "metadata": {
        "id": "rTrxU3De2vGO"
      }
    },
    {
      "cell_type": "code",
      "source": [
        "!pip install flask flask-ngrok\n"
      ],
      "metadata": {
        "id": "vzQs8Wu_29ba"
      },
      "execution_count": null,
      "outputs": []
    },
    {
      "cell_type": "code",
      "source": [
        "from flask import Flask, request, jsonify\n",
        "from flask_ngrok import run_with_ngrok\n",
        "import joblib\n",
        "import numpy as np\n",
        "\n",
        "app = Flask(__name__)\n",
        "run_with_ngrok(app)  # Inicia o ngrok quando o app é executado\n",
        "\n",
        "# Carrega o modelo treinado\n",
        "modelo_knn = joblib.load('modelo_knn_iris.pkl')\n",
        "\n",
        "@app.route('/predict', methods=['POST'])\n",
        "def predict():\n",
        "    data = request.get_json(force=True)\n",
        "    medidas = np.array(data['exemplo']).reshape(1, -1)\n",
        "    predicao = modelo_knn.predict(medidas)\n",
        "    return jsonify({'classe': int(predicao[0])})\n",
        "\n",
        "if __name__ == '__main__':\n",
        "    app.run()\n"
      ],
      "metadata": {
        "id": "eIuIBic63MRN"
      },
      "execution_count": null,
      "outputs": []
    }
  ]
}